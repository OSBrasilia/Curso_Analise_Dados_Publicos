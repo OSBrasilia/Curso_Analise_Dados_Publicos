{
 "cells": [
  {
   "cell_type": "markdown",
   "metadata": {},
   "source": [
    "# Introdução a Python\n",
    "\n",
    "Conceitos da linguagem python, variáveis, tratamento de strings, condição, repetição"
   ]
  },
  {
   "cell_type": "code",
   "execution_count": 1,
   "metadata": {},
   "outputs": [
    {
     "name": "stdout",
     "output_type": "stream",
     "text": [
      "Bom dia!\n"
     ]
    }
   ],
   "source": [
    "# Executando um comando\n",
    "print('Bom dia!')"
   ]
  },
  {
   "cell_type": "code",
   "execution_count": 2,
   "metadata": {},
   "outputs": [
    {
     "data": {
      "text/plain": [
       "15"
      ]
     },
     "execution_count": 2,
     "metadata": {},
     "output_type": "execute_result"
    }
   ],
   "source": [
    "# Declaração de variaveis\n",
    "x = 5\n",
    "y = 10\n",
    "\n",
    "x + y"
   ]
  },
  {
   "cell_type": "code",
   "execution_count": 3,
   "metadata": {},
   "outputs": [
    {
     "name": "stdout",
     "output_type": "stream",
     "text": [
      "Um texto qualquer\n"
     ]
    }
   ],
   "source": [
    "# Variáveis podem ter qualquer nome\n",
    "umavariaveldenomemuitogrande = 'Um texto qualquer'\n",
    "\n",
    "print(umavariaveldenomemuitogrande)"
   ]
  },
  {
   "cell_type": "code",
   "execution_count": 4,
   "metadata": {},
   "outputs": [
    {
     "data": {
      "text/plain": [
       "19.25"
      ]
     },
     "execution_count": 4,
     "metadata": {},
     "output_type": "execute_result"
    }
   ],
   "source": [
    "# Mas esse é o jeito certo de dar um nome muito grande a uma varavel em python\n",
    "uma_variavel_de_nome_muito_grande = 15.5\n",
    "outra_variavel_com_nome_grande = 3.75\n",
    "\n",
    "uma_variavel_de_nome_muito_grande + outra_variavel_com_nome_grande\n",
    "\n",
    "# Os nomes não precisam ser tão grandes mas precisam ser intuitivos, fáceis de entender\n",
    "# e devem explicar o que a variavel significa"
   ]
  },
  {
   "cell_type": "code",
   "execution_count": 5,
   "metadata": {},
   "outputs": [
    {
     "name": "stdout",
     "output_type": "stream",
     "text": [
      "Digite seu nome: Marcos\n",
      "Bom dia Marcos!\n"
     ]
    }
   ],
   "source": [
    "# Capturano o nome do usuário\n",
    "nome = input('Digite seu nome: ')\n",
    "\n",
    "print('Bom dia ' + nome + '!')"
   ]
  },
  {
   "cell_type": "code",
   "execution_count": 6,
   "metadata": {},
   "outputs": [
    {
     "name": "stdout",
     "output_type": "stream",
     "text": [
      "Digite o primeiro número: 12\n",
      "Digite o segundo número: 45\n",
      "57\n"
     ]
    }
   ],
   "source": [
    "# Vamos somar 2 números\n",
    "numero1 = input('Digite o primeiro número: ')\n",
    "numero2 = input('Digite o segundo número: ')\n",
    "\n",
    "print(int(numero1) + int(numero2))\n",
    "\n",
    "# Exercício -> Calcular a soma entre 2 números"
   ]
  },
  {
   "cell_type": "code",
   "execution_count": 7,
   "metadata": {},
   "outputs": [
    {
     "name": "stdout",
     "output_type": "stream",
     "text": [
      "Digite seu nome completo: Marcos Vinicius Amorim Ferreira Guimarães\n",
      "MARCOS VINICIUS AMORIM FERREIRA GUIMARÃES\n",
      "marcos vinicius amorim ferreira guimarães\n",
      "Marcos vinicius amorim ferreira guimarães\n",
      "['Marcos', 'Vinicius', 'Amorim', 'Ferreira', 'Guimarães']\n",
      "Marcos\n",
      "['Marcos', 'Vinicius', 'Amorim', 'Ferreira', 'Guimarães', 'Teste']\n",
      "['Marcos', 'Amorim', 'Ferreira', 'Guimarães', 'Teste']\n",
      "['Marcos', 'Vinicius', 'Amorim', 'Ferreira', 'Guimarães']\n",
      "Marco\n"
     ]
    }
   ],
   "source": [
    "# Operações com strings\n",
    "nome_completo = input('Digite seu nome completo: ')\n",
    "\n",
    "print(nome_completo.upper())\n",
    "print(nome_completo.lower())\n",
    "print(nome_completo.lower().capitalize())\n",
    "print(nome_completo.split())\n",
    "\n",
    "# Podemos separar o nome em uma lista, onde poderemos acessar cada um dos nomes\n",
    "# como um item da lista. O acesso é feito pelo índice do nome na lista\n",
    "# Temos que lembrar: programadores sempre começam contando de ZERO\n",
    "nome_separado = nome_completo.split()\n",
    "print(nome_separado[0])\n",
    "\n",
    "# Podemos adicionar elementos à lista\n",
    "nome_separado.append('Teste')\n",
    "print(nome_separado)\n",
    "\n",
    "# Podemos excluir elementos pelo indice\n",
    "del nome_separado[1]\n",
    "print(nome_separado)\n",
    "\n",
    "# Para ver o nome como lista nem precisamos criar outra variável\n",
    "print(nome_completo.split())\n",
    "# Mas criando outra variável podemos saber o que estamos guardando para uso futuro e\n",
    "# podemos acessar facilmente um valor guardado\n",
    "\n",
    "# Mas como uma string já é uma sequencia de caracteres, nem precisamos usar split\n",
    "# Cuidado com os indices\n",
    "print(nome_completo[0:5])"
   ]
  },
  {
   "cell_type": "code",
   "execution_count": 8,
   "metadata": {},
   "outputs": [
    {
     "name": "stdout",
     "output_type": "stream",
     "text": [
      "Digite um número: 2\n",
      "Valor menor que 10.000!\n"
     ]
    }
   ],
   "source": [
    "# Estutura condicional\n",
    "\n",
    "# Comparar um valor digitado\n",
    "valor = float(input('Digite um número: '))\n",
    "\n",
    "# Verificar se o valor é maior que 10.000\n",
    "if valor > 10000:\n",
    "    print('Valor maior que 10.000!')\n",
    "else:\n",
    "    print('Valor menor que 10.000!')\n",
    "    \n",
    "# O if faz um teste, que deve retornar TRUE ou FALSE, e com isso direcionar a execução do bloco condicional\n",
    "# Dentro do bloco do if (ou do else) pode ter quantos passos/comandos eu quiser\n",
    "# Os operadores que podemos usar: >, <, >=, <=, ==, !=, and, or, not"
   ]
  },
  {
   "cell_type": "code",
   "execution_count": 9,
   "metadata": {},
   "outputs": [],
   "source": [
    "# Exercício -> Alterar o código da média para se recusar a calcular com números negativos"
   ]
  },
  {
   "cell_type": "code",
   "execution_count": 10,
   "metadata": {},
   "outputs": [
    {
     "name": "stdout",
     "output_type": "stream",
     "text": [
      "Digite seu nome completo: Marcos Vinicius Amorim Ferreira Guimarães\n",
      "Marcos\n",
      "Vinicius\n",
      "Amorim\n",
      "Ferreira\n",
      "Guimarães\n"
     ]
    }
   ],
   "source": [
    "# Estrutura de repetição ou laço\n",
    "\n",
    "# Percorrer uma lista do inicio ao fim\n",
    "nome_completo = input('Digite seu nome completo: ')\n",
    "\n",
    "nome_separado = nome_completo.split()\n",
    "\n",
    "# Imprimir cada um dos nomes\n",
    "for nome in nome_separado:\n",
    "    print(nome)\n",
    "    \n",
    "# O for percorre uma lista, elemento a elemento. Em cada momento o for disponibiliza para nós\n",
    "# um dos elementos da lista, e depois o próximo, o próximo..."
   ]
  },
  {
   "cell_type": "code",
   "execution_count": 11,
   "metadata": {},
   "outputs": [
    {
     "name": "stdout",
     "output_type": "stream",
     "text": [
      "9\n"
     ]
    }
   ],
   "source": [
    "# Exemplo\n",
    "# Descobrir o maior valor em uma lista\n",
    "lista = [2, 7, 3, 6, 5, 8, 4, 9, 1, 0]\n",
    "\n",
    "maximo = lista[0] # truque: considerar que o primeiro elemento é o maior\n",
    "\n",
    "# Percorrer a lista\n",
    "for valor in lista:\n",
    "    if valor > maximo:\n",
    "        maximo = valor\n",
    "        \n",
    "print(maximo)\n",
    "\n",
    "# Exercício -> Descobrir o menor valor\n",
    "# Exercício -> Imprimir somente os pares\n"
   ]
  }
 ],
 "metadata": {
  "kernelspec": {
   "display_name": "Python 3",
   "language": "python",
   "name": "python3"
  },
  "language_info": {
   "codemirror_mode": {
    "name": "ipython",
    "version": 3
   },
   "file_extension": ".py",
   "mimetype": "text/x-python",
   "name": "python",
   "nbconvert_exporter": "python",
   "pygments_lexer": "ipython3",
   "version": "3.6.4"
  }
 },
 "nbformat": 4,
 "nbformat_minor": 2
}
